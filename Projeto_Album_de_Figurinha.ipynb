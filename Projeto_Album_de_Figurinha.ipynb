{
  "nbformat": 4,
  "nbformat_minor": 0,
  "metadata": {
    "colab": {
      "provenance": []
    },
    "kernelspec": {
      "name": "python3",
      "display_name": "Python 3"
    },
    "language_info": {
      "name": "python"
    }
  },
  "cells": [
    {
      "cell_type": "code",
      "metadata": {
        "id": "YaFBJWcnXXnv"
      },
      "source": [],
      "execution_count": null,
      "outputs": []
    },
    {
      "cell_type": "markdown",
      "metadata": {
        "id": "Qv2AWPjFXeA_"
      },
      "source": []
    },
    {
      "cell_type": "code",
      "source": [],
      "metadata": {
        "id": "OsXsZERj5xlR"
      },
      "execution_count": null,
      "outputs": []
    },
    {
      "cell_type": "markdown",
      "metadata": {
        "id": "wuFCR3WYXwR3"
      },
      "source": [
        "# PRODUTO: Albúm Copa 2022\n",
        "\n",
        "*   Total de cromos: **212**\n",
        "\n",
        "*   Preço do livro ilustrado capa brochura: **R$ 10,00**\n",
        "\n",
        "*   Item da lista Envelope com 4 cromos: **R$ 4,00**\n",
        "\n",
        "\n",
        "\n",
        "\n"
      ]
    },
    {
      "cell_type": "markdown",
      "metadata": {
        "id": "NUYywP7ZYeOX"
      },
      "source": [
        "## SUPOSIÇÕES\n",
        "\n",
        "1.   Todas as figurinhas tem igual probabilidade de serem sorteadas.\n",
        "2.   Um pacotinho é comprado por vez até que se complete o álbum.\n",
        "\n"
      ]
    },
    {
      "cell_type": "markdown",
      "metadata": {
        "id": "DnYI8apIeIca"
      },
      "source": [
        "## ALGORITMO\n",
        "\n",
        "\n",
        "\n",
        "1.   Coprar um pacotinho de figurinhas (4 figurinhas cada, que podem ser repetidas).\n",
        "2.   Colar no albúm e verificar se o albúm está completo.\n",
        "3.   Caso esteja incompleto, comprar mais um pacotinho, caso contrário, terminar.\n",
        "\n"
      ]
    },
    {
      "cell_type": "markdown",
      "metadata": {
        "id": "ysNvkyZue6kS"
      },
      "source": [
        "## PERGUNTAS\n",
        "\n",
        "\n",
        "\n",
        "1.   Qual o valor médio investido para completar o álbum nessas condições?\n",
        "2.   Quantos pacotes são necessários comprar, em média, para completar o álbum?\n",
        "3.   Qual é a distribuição empírica do valor investido para completar o álbum?\n",
        "4.   Qual é a probabilidade de se gastar menos que R$1500,00 para completar o álbum?\n",
        "5.   Qual é a probabilidade de se gastar mais do que a média para completar o álbum?\n",
        "6.   Qual é um intervalo de confiança de 95% para o gasto ao se completar o álbum?\n",
        "7.   Qual o valor médio gasto caso se esteja completando o álbum com mais um amigo?\n",
        "8.   Qual o valor médio gasto caso se esteja completando o álbum com mais 2 amigos?\n",
        "\n"
      ]
    },
    {
      "cell_type": "markdown",
      "metadata": {
        "id": "DpbFXcpUZvfX"
      },
      "source": [
        "### Import de bibliotecas"
      ]
    },
    {
      "cell_type": "code",
      "metadata": {
        "id": "g8l4SaPmXmSm"
      },
      "source": [
        "# Import de bibliotecas\n",
        "import numpy as np\n"
      ],
      "execution_count": null,
      "outputs": []
    },
    {
      "cell_type": "markdown",
      "metadata": {
        "id": "HKaKNXwYZ9Lb"
      },
      "source": [
        "### Explorando o algoritmo"
      ]
    },
    {
      "cell_type": "code",
      "metadata": {
        "id": "DGteEV9YX5rd"
      },
      "source": [
        "# Detalhes do albúm, pacote de figurinhas e preço\n",
        "n_album = 212\n",
        "preco_pacote = 4\n",
        "cromos_por_pacote = 4\n",
        "preco_album = 10"
      ],
      "execution_count": null,
      "outputs": []
    },
    {
      "cell_type": "code",
      "metadata": {
        "id": "RzB4mjKdiXhI"
      },
      "source": [
        "# Criando o álbum\n",
        "album = np.zeros(n_album)\n",
        "\n"
      ],
      "execution_count": null,
      "outputs": []
    },
    {
      "cell_type": "code",
      "metadata": {
        "colab": {
          "base_uri": "https://localhost:8080/"
        },
        "id": "PmyXhx6oi5XJ",
        "outputId": "78109cbb-8615-47fb-80a6-4b4f97e67961"
      },
      "source": [
        "# Comprar pacotinho\n",
        "pacotinho = np.random.choice(np.arange(0, n_album), size = 4)\n",
        "pacotinho"
      ],
      "execution_count": null,
      "outputs": [
        {
          "output_type": "execute_result",
          "data": {
            "text/plain": [
              "array([ 15, 120, 208, 202])"
            ]
          },
          "metadata": {},
          "execution_count": 4
        }
      ]
    },
    {
      "cell_type": "code",
      "metadata": {
        "id": "JmyJrDg40AAO",
        "colab": {
          "base_uri": "https://localhost:8080/"
        },
        "outputId": "94c3d38a-9f24-44b8-bbc2-94d7fa4eb29b"
      },
      "source": [
        "# Colar figurinha no álbum\n",
        "album[pacotinho[0]] += 1\n",
        "album[pacotinho[1]] += 1\n",
        "album[pacotinho[2]] += 1\n",
        "album[pacotinho[3]] += 1\n",
        "\n",
        "album\n"
      ],
      "execution_count": null,
      "outputs": [
        {
          "output_type": "execute_result",
          "data": {
            "text/plain": [
              "array([0., 0., 0., 0., 0., 0., 0., 0., 0., 0., 0., 0., 0., 0., 0., 1., 0.,\n",
              "       0., 0., 0., 0., 0., 0., 0., 0., 0., 0., 0., 0., 0., 0., 0., 0., 0.,\n",
              "       0., 0., 0., 0., 0., 0., 0., 0., 0., 0., 0., 0., 0., 0., 0., 0., 0.,\n",
              "       0., 0., 0., 0., 0., 0., 0., 0., 0., 0., 0., 0., 0., 0., 0., 0., 0.,\n",
              "       0., 0., 0., 0., 0., 0., 0., 0., 0., 0., 0., 0., 0., 0., 0., 0., 0.,\n",
              "       0., 0., 0., 0., 0., 0., 0., 0., 0., 0., 0., 0., 0., 0., 0., 0., 0.,\n",
              "       0., 0., 0., 0., 0., 0., 0., 0., 0., 0., 0., 0., 0., 0., 0., 0., 0.,\n",
              "       0., 1., 0., 0., 0., 0., 0., 0., 0., 0., 0., 0., 0., 0., 0., 0., 0.,\n",
              "       0., 0., 0., 0., 0., 0., 0., 0., 0., 0., 0., 0., 0., 0., 0., 0., 0.,\n",
              "       0., 0., 0., 0., 0., 0., 0., 0., 0., 0., 0., 0., 0., 0., 0., 0., 0.,\n",
              "       0., 0., 0., 0., 0., 0., 0., 0., 0., 0., 0., 0., 0., 0., 0., 0., 0.,\n",
              "       0., 0., 0., 0., 0., 0., 0., 0., 0., 0., 0., 0., 0., 0., 0., 1., 0.,\n",
              "       0., 0., 0., 0., 1., 0., 0., 0.])"
            ]
          },
          "metadata": {},
          "execution_count": 5
        }
      ]
    },
    {
      "cell_type": "code",
      "metadata": {
        "colab": {
          "base_uri": "https://localhost:8080/"
        },
        "id": "OS6-eF0W1zHC",
        "outputId": "b08e7e46-7537-469e-df0c-5a48fe45a18c"
      },
      "source": [
        "#Pergunta: O album está incompleto?\n",
        "not np.all(album >= 1)"
      ],
      "execution_count": null,
      "outputs": [
        {
          "output_type": "execute_result",
          "data": {
            "text/plain": [
              "True"
            ]
          },
          "metadata": {},
          "execution_count": 6
        }
      ]
    },
    {
      "cell_type": "markdown",
      "metadata": {
        "id": "cRJz4rOva9zz"
      },
      "source": [
        "#RESPONDENDO AS PERGUNTAS"
      ]
    },
    {
      "cell_type": "markdown",
      "metadata": {
        "id": "CPN3OqmraIrU"
      },
      "source": [
        "##Criando função de simular o álbum preenchido"
      ]
    },
    {
      "cell_type": "code",
      "metadata": {
        "id": "VW9AA6in2W-B"
      },
      "source": [
        "#Criando função de simular o álbum preenchido\n",
        "\n",
        "def SimulaAlbum():\n",
        "  n_album = 212\n",
        "  album = np.zeros(n_album)\n",
        "  preco_pacote = 4\n",
        "  cromos_por_pacote = 4\n",
        "  preco_album = 10\n",
        "  #contador de pacotes\n",
        "  pacotes = 0\n",
        "\n",
        "  #Comprar pacotinho e colar figurinha enquanto album tiver incompleto\n",
        "  while True:\n",
        "    pacotinho = np.random.choice(np.arange(0, n_album), size = 4)\n",
        "    pacotes += 1\n",
        "    #Colar figurinha no álbum\n",
        "    for i in range(cromos_por_pacote):\n",
        "      album[pacotinho[i]] += 1\n",
        "    #Questionamento: Se álbum completo brecar\n",
        "    if np.all(album >= 1):\n",
        "      break\n",
        "\n",
        "  custo = (pacotes*preco_pacote) + preco_album\n",
        "  return custo\n"
      ],
      "execution_count": null,
      "outputs": []
    },
    {
      "cell_type": "code",
      "metadata": {
        "colab": {
          "base_uri": "https://localhost:8080/"
        },
        "id": "kR8POrIB-2mT",
        "outputId": "6796aa77-b3f9-48fe-dc90-cb2bf441377e"
      },
      "source": [
        "SimulaAlbum()"
      ],
      "execution_count": null,
      "outputs": [
        {
          "output_type": "execute_result",
          "data": {
            "text/plain": [
              "1374"
            ]
          },
          "metadata": {},
          "execution_count": 13
        }
      ]
    },
    {
      "cell_type": "markdown",
      "metadata": {
        "id": "tz49BiksarEM"
      },
      "source": [
        "## Simulações e resultados para análises"
      ]
    },
    {
      "cell_type": "code",
      "metadata": {
        "id": "rbU_zTec6_Bu"
      },
      "source": [
        "#Simulações e resultados para análises\n",
        "\n",
        "quant_simulacoes = 1000\n",
        "guarda_resultados = []\n",
        "\n",
        "for i in range(quant_simulacoes):\n",
        "  pessoa = SimulaAlbum()\n",
        "  guarda_resultados.append(pessoa)\n"
      ],
      "execution_count": null,
      "outputs": []
    },
    {
      "cell_type": "markdown",
      "metadata": {
        "id": "zR4scWSYC7sN"
      },
      "source": [
        "### 1.   Qual o valor médio investido para completar o álbum nessas condições?"
      ]
    },
    {
      "cell_type": "code",
      "metadata": {
        "colab": {
          "base_uri": "https://localhost:8080/"
        },
        "id": "sqKw0uYIAGpD",
        "outputId": "ef701d37-91a1-4baa-cf62-31adec94d0f3"
      },
      "source": [
        "#Calculando a média da simulação acima\n",
        "media_total_album = np.array(guarda_resultados).mean()\n",
        "media_total_album"
      ],
      "execution_count": null,
      "outputs": [
        {
          "output_type": "execute_result",
          "data": {
            "text/plain": [
              "1250.984"
            ]
          },
          "metadata": {},
          "execution_count": 15
        }
      ]
    },
    {
      "cell_type": "markdown",
      "metadata": {
        "id": "liPzblGJDKBL"
      },
      "source": [
        "### 2.   Quantos pacotes são necessários comprar, em média, para completar o álbum?"
      ]
    },
    {
      "cell_type": "code",
      "metadata": {
        "colab": {
          "base_uri": "https://localhost:8080/"
        },
        "id": "4SJrL73tBmIt",
        "outputId": "6a4d2652-caba-4087-b90a-8ef001dfd705"
      },
      "source": [
        "#Calculando a média de pacotes comprados\n",
        "m_pacotes_comprados = (media_total_album - preco_album) / preco_pacote\n",
        "m_pacotes_comprados"
      ],
      "execution_count": null,
      "outputs": [
        {
          "output_type": "execute_result",
          "data": {
            "text/plain": [
              "310.246"
            ]
          },
          "metadata": {},
          "execution_count": 16
        }
      ]
    },
    {
      "cell_type": "markdown",
      "metadata": {
        "id": "vj-LX4f0DVYz"
      },
      "source": [
        "### 3.   Qual é a distribuição empírica do valor investido para completar o álbum?"
      ]
    },
    {
      "cell_type": "code",
      "metadata": {
        "colab": {
          "base_uri": "https://localhost:8080/",
          "height": 455
        },
        "id": "NzXB9lNZC-5G",
        "outputId": "3f249535-e59f-4eb3-d58e-3dae43c22fcd"
      },
      "source": [
        "#Criando um gráfico de histograma para visualizarmos a distribuição\n",
        "import matplotlib.pyplot as plt\n",
        "plt.hist(guarda_resultados, bins = 50, color = 'royalblue', edgecolor = 'black')\n",
        "plt.title('Distribuição Empírica do Valor Gasto para Completar o Álbum')\n",
        "plt.show()"
      ],
      "execution_count": null,
      "outputs": [
        {
          "output_type": "display_data",
          "data": {
            "text/plain": [
              "<Figure size 640x480 with 1 Axes>"
            ],
            "image/png": "[encoded data removed]"
          },
          "metadata": {}
        }
      ]
    },
    {
      "cell_type": "markdown",
      "metadata": {
        "id": "-8yh-PN8F2hc"
      },
      "source": [
        "### 4.   Qual é a probabilidade de se gastar menos que R$1500,00 para completar o álbum?"
      ]
    },
    {
      "cell_type": "code",
      "metadata": {
        "colab": {
          "base_uri": "https://localhost:8080/"
        },
        "id": "0YROHca3F5Lm",
        "outputId": "d7e2acb7-5d29-437c-8ca9-c9e5d2862617"
      },
      "source": [
        "#Calculando o percentual dos resultados abaixo de 1500 sobre o total de simulações para mostrar a probabilidade\n",
        "prob_questao_4 = sum(np.array(guarda_resultados) < 1500) / quant_simulacoes\n",
        "print('A probabilidade de se gastar menos de R$1500,00 para completar o álbum é de {:.2f}%'.format(prob_questao_4 *100))\n"
      ],
      "execution_count": null,
      "outputs": [
        {
          "output_type": "stream",
          "name": "stdout",
          "text": [
            "A probabilidade de se gastar menos de R$1500,00 para completar o álbum é de 84.30%\n"
          ]
        }
      ]
    },
    {
      "cell_type": "markdown",
      "metadata": {
        "id": "jz9ml3LUHifF"
      },
      "source": [
        "### 5.   Qual é a probabilidade de se gastar mais do que a média para completar o álbum?\n"
      ]
    },
    {
      "cell_type": "code",
      "metadata": {
        "colab": {
          "base_uri": "https://localhost:8080/"
        },
        "id": "66-NpTJOHOVH",
        "outputId": "1ea1f99e-03f5-473c-e80c-13062ee8c74b"
      },
      "source": [
        "#Calculando o percentual dos resultados acima da média sobre o total de simulações para mostrar a probabilidade\n",
        "prob_questao_5 = sum(np.array(guarda_resultados) > np.array(guarda_resultados).mean()) / quant_simulacoes\n",
        "print('A probabilidade de se gastar mais do que a média para completar o álbum é de {:.2f}%'.format(prob_questao_5 *100))\n"
      ],
      "execution_count": null,
      "outputs": [
        {
          "output_type": "stream",
          "name": "stdout",
          "text": [
            "A probabilidade de se gastar mais do que a média para completar o álbum é de 42.00%\n"
          ]
        }
      ]
    },
    {
      "cell_type": "markdown",
      "metadata": {
        "id": "EjRgAzHLJr2F"
      },
      "source": [
        "### 6.   Qual é um intervalo de confiança de 95% para o gasto ao se completar o álbum?\n"
      ]
    },
    {
      "cell_type": "code",
      "metadata": {
        "colab": {
          "base_uri": "https://localhost:8080/"
        },
        "id": "IBfvthSCJtoI",
        "outputId": "73ce4c04-22f7-49bb-fb6c-6572cb3f1546"
      },
      "source": [
        "#Gerando o intervalo de confiança de 95% a partir do quantil (min de 2,5% até o max de 97,5%)\n",
        "interv_conf_95 = np.quantile(guarda_resultados, [0.025, 0.975])\n",
        "print('Em um intervalo de confiança de 95%, para completar o álbum fica entre R${:.2f} até R${:.2f}'.format(interv_conf_95[0], interv_conf_95[1]))"
      ],
      "execution_count": null,
      "outputs": [
        {
          "output_type": "stream",
          "name": "stdout",
          "text": [
            "Em um intervalo de confiança de 95%, para completar o álbum fica entre R$866.00 até R$1830.10\n"
          ]
        }
      ]
    },
    {
      "cell_type": "markdown",
      "metadata": {
        "id": "FFzEoqsbMZQ7"
      },
      "source": [
        "### 7.   Qual o valor médio gasto caso se esteja completando o álbum com mais um amigo?"
      ]
    },
    {
      "cell_type": "code",
      "metadata": {
        "id": "nXYOgJLXMcgi"
      },
      "source": [
        "#Criando uma nova função para calcular o valor de \"N\" amigos a completar os álbuns juntos\n",
        "def SimulaAlbuns(n_amigos):\n",
        "  n_album = 212\n",
        "  album = np.zeros(n_album)\n",
        "  preco_pacote = 4\n",
        "  cromos_por_pacote = 4\n",
        "  preco_album = 10\n",
        "  #contador de pacotes\n",
        "  pacotes = 0\n",
        "\n",
        "  #Comprar pacotinho e colar figurinha enquanto album tiver incompleto\n",
        "  while True:\n",
        "    pacotinho = np.random.choice(np.arange(0, n_album), size = 4)\n",
        "    pacotes += 1\n",
        "    #Colar figurinha no álbum\n",
        "    for i in range(cromos_por_pacote):\n",
        "      album[pacotinho[i]] += 1\n",
        "    #Questionamento: Se álbum(ns) completo(s) brecar\n",
        "    if np.all(album >= n_amigos):\n",
        "      break\n",
        "\n",
        "  custo_total = (pacotes*preco_pacote) + (preco_album*n_amigos)\n",
        "  return custo_total/n_amigos\n",
        "#-----------------------------------------------------------------------"
      ],
      "execution_count": null,
      "outputs": []
    },
    {
      "cell_type": "code",
      "metadata": {
        "colab": {
          "base_uri": "https://localhost:8080/"
        },
        "id": "ttNhyIyVSx8k",
        "outputId": "d9e9783a-98c5-412a-aafe-f5d5e551fae4"
      },
      "source": [
        "#Calculando custo médio dos álbuns para 2 amigos trocando figurinhas\n",
        "#Simulações e resultados para análises\n",
        "quant_simulacoes_amigos = 1000\n",
        "guarda_resultados_amigos = []\n",
        "\n",
        "for i in range(quant_simulacoes_amigos):\n",
        "  pessoas = SimulaAlbuns(2)\n",
        "  guarda_resultados_amigos.append(pessoas)\n",
        "\n",
        "media_total_albuns_2 = np.array(guarda_resultados_amigos).mean()\n",
        "print('O valor médio gasto caso esteja completando o álbum com mais uma pessoa é de R${:.2f}'.format(media_total_albuns_2))"
      ],
      "execution_count": null,
      "outputs": [
        {
          "output_type": "stream",
          "name": "stdout",
          "text": [
            "O valor médio gasto caso esteja completando o álbum com mais uma pessoa é de R$866.31\n"
          ]
        }
      ]
    },
    {
      "cell_type": "code",
      "metadata": {
        "colab": {
          "base_uri": "https://localhost:8080/"
        },
        "id": "ml1g0yf2WT8s",
        "outputId": "4d568244-d679-4a8c-8f47-d65d6f8e5942"
      },
      "source": [
        "#Calculando a economia gerada quando comparamos com o valor médio de apenas 1 pessoa completando o álbum\n",
        "economia_v_medio = (1 - (media_total_albuns_2/media_total_album))*100\n",
        "print('A economia gerada quando comparamos com o valor médio de apenas uma pessoa é de {:.0f}%'.format(economia_v_medio))"
      ],
      "execution_count": null,
      "outputs": [
        {
          "output_type": "stream",
          "name": "stdout",
          "text": [
            "A economia gerada quando comparamos com o valor médio de apenas uma pessoa é de 31%\n"
          ]
        }
      ]
    },
    {
      "cell_type": "markdown",
      "metadata": {
        "id": "Kdqm9LvnTRkl"
      },
      "source": [
        "### 8.   Qual o valor médio gasto caso se esteja completando o álbum com mais 2 amigos?"
      ]
    },
    {
      "cell_type": "code",
      "metadata": {
        "id": "qT1OzkaNTSb1"
      },
      "source": [
        "#Simulações e resultados para análises\n",
        "#Criando função de quantidade de simulações para quantidade de albuns compartilhados\n",
        "\n",
        "def MediaSimulacoesAlbuns(quant_simulacoes, quant_albuns):\n",
        "  guarda_result = []\n",
        "  for i in range(quant_simulacoes):\n",
        "    pessoas = SimulaAlbuns(quant_albuns)\n",
        "    guarda_result.append(pessoas)\n",
        "  return np.array(guarda_result).mean()"
      ],
      "execution_count": null,
      "outputs": []
    },
    {
      "cell_type": "code",
      "metadata": {
        "colab": {
          "base_uri": "https://localhost:8080/"
        },
        "id": "hZEblixDU8hP",
        "outputId": "b577e61d-9387-4efd-8207-3a74526cf19c"
      },
      "source": [
        "#Calculando custo médio dos álbuns para 3 amigos trocando figurinhas\n",
        "media_total_albuns_3 = MediaSimulacoesAlbuns(1000, 3)\n",
        "print('O valor médio gasto caso esteja completando o álbum com mais duas pessoas é de R${:.2f}'.format(media_total_albuns_3))"
      ],
      "execution_count": null,
      "outputs": [
        {
          "output_type": "stream",
          "name": "stdout",
          "text": [
            "O valor médio gasto caso esteja completando o álbum com mais duas pessoas é de R$716.55\n"
          ]
        }
      ]
    },
    {
      "cell_type": "code",
      "metadata": {
        "colab": {
          "base_uri": "https://localhost:8080/"
        },
        "id": "9QGPPLMmXnJg",
        "outputId": "235861e8-ce90-4b95-8a2a-509f2c5471e6"
      },
      "source": [
        "#Calculando a economia gerada quando comparamos com o valor médio de apenas 1 pessoa completando o álbum\n",
        "economia_v_medio2 = (1 - (media_total_albuns_3/media_total_album))*100\n",
        "print('A economia gerada quando comparamos com o valor médio de apenas uma pessoa é de {:.0f}%'.format(economia_v_medio2))"
      ],
      "execution_count": null,
      "outputs": [
        {
          "output_type": "stream",
          "name": "stdout",
          "text": [
            "A economia gerada quando comparamos com o valor médio de apenas uma pessoa é de 43%\n"
          ]
        }
      ]
    },
    {
      "cell_type": "markdown",
      "metadata": {
        "id": "LFyeg1h4c14F"
      },
      "source": [
        "#Criando uma lista com 10 médias, de 1 até 10 amigos para completar o álbum"
      ]
    },
    {
      "cell_type": "code",
      "metadata": {
        "colab": {
          "base_uri": "https://localhost:8080/"
        },
        "id": "jM1y-yAeY5A2",
        "outputId": "e81e67e6-bd8d-4460-9050-0ec3f009b4df"
      },
      "source": [
        "#Criando uma lista com 10 médias, de 1 até 10 amigos para completar o álbum\n",
        "\n",
        "guarda_result_10 = []\n",
        "guarda_amigos_10 = []\n",
        "for i in range(1, 11):\n",
        "  pessoas_x = MediaSimulacoesAlbuns(1000, i)\n",
        "  guarda_result_10.append(np.array(pessoas_x))\n",
        "  guarda_amigos_10.append(np.array(i))\n",
        "  print('Simulação concluída para {} amigo(s)'.format(i))\n",
        "\n",
        "print('Feito!')\n",
        "#guarda_result_10"
      ],
      "execution_count": null,
      "outputs": [
        {
          "output_type": "stream",
          "name": "stdout",
          "text": [
            "Simulação concluída para 1 amigo(s)\n",
            "Simulação concluída para 2 amigo(s)\n",
            "Simulação concluída para 3 amigo(s)\n",
            "Simulação concluída para 4 amigo(s)\n",
            "Simulação concluída para 5 amigo(s)\n",
            "Simulação concluída para 6 amigo(s)\n",
            "Simulação concluída para 7 amigo(s)\n",
            "Simulação concluída para 8 amigo(s)\n",
            "Simulação concluída para 9 amigo(s)\n",
            "Simulação concluída para 10 amigo(s)\n",
            "Feito!\n"
          ]
        }
      ]
    },
    {
      "cell_type": "code",
      "metadata": {
        "colab": {
          "base_uri": "https://localhost:8080/"
        },
        "id": "784i18N17u-t",
        "outputId": "e20f96fd-49cc-47f3-ac5a-b1e2ae54db45"
      },
      "source": [
        "guarda_result_10"
      ],
      "execution_count": null,
      "outputs": [
        {
          "output_type": "execute_result",
          "data": {
            "text/plain": [
              "[array(1278.712),\n",
              " array(877.724),\n",
              " array(724.636),\n",
              " array(631.434),\n",
              " array(579.6008),\n",
              " array(540.91866667),\n",
              " array(512.03485714),\n",
              " array(491.3605),\n",
              " array(469.84),\n",
              " array(456.0192)]"
            ]
          },
          "metadata": {},
          "execution_count": 28
        }
      ]
    },
    {
      "cell_type": "code",
      "metadata": {
        "colab": {
          "base_uri": "https://localhost:8080/",
          "height": 503
        },
        "id": "e2qjXz83cTv9",
        "outputId": "14669122-5430-4852-b539-18f7e2789f80"
      },
      "source": [
        "#Gráfico custo por amigos\n",
        "\n",
        "def GraficoCustoAmigos(simulacao, amigos):\n",
        "  minimo_possivel = ((n_album/cromos_por_pacote)*preco_pacote) + preco_album\n",
        "\n",
        "  plt.figure(figsize=(18, 6))\n",
        "  plt.bar(amigos, simulacao, width=0.5, color='royalblue')\n",
        "  plt.xticks(amigos)\n",
        "  #labels = (simulacao)\n",
        "  plt.axhline(y=minimo_possivel, linestyle='dashed', color='blue')\n",
        "  plt.title('Custo médio aproximado para\\n completar o álbum em função do tamanho\\n do grupo de pessoas trocando figurinhas')\n",
        "  plt.annotate(\"Valor Mínimo\",\n",
        "            xy=(1, 212),\n",
        "            xycoords='data',\n",
        "            xytext=(0, 100),\n",
        "            textcoords='data',\n",
        "            arrowprops=dict(arrowstyle=\"->\",connectionstyle=\"arc3\"))\n",
        "\n",
        "  plt.show()\n",
        "\n",
        "GraficoCustoAmigos(guarda_result_10, guarda_amigos_10)"
      ],
      "execution_count": null,
      "outputs": [
        {
          "output_type": "display_data",
          "data": {
            "text/plain": [
              "<Figure size 1800x600 with 1 Axes>"
            ],
            "image/png": "[encoded data removed]"
          },
          "metadata": {}
        }
      ]
    }
  ]
}